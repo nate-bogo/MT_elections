{
 "cells": [
  {
   "cell_type": "code",
   "execution_count": 2,
   "metadata": {},
   "outputs": [],
   "source": [
    "from PyPDF2 import PdfReader as pdf\n",
    "import numpy as np\n",
    "import pandas as pd"
   ]
  },
  {
   "cell_type": "code",
   "execution_count": 3,
   "metadata": {},
   "outputs": [
    {
     "data": {
      "text/html": [
       "<div>\n",
       "<style scoped>\n",
       "    .dataframe tbody tr th:only-of-type {\n",
       "        vertical-align: middle;\n",
       "    }\n",
       "\n",
       "    .dataframe tbody tr th {\n",
       "        vertical-align: top;\n",
       "    }\n",
       "\n",
       "    .dataframe thead th {\n",
       "        text-align: right;\n",
       "    }\n",
       "</style>\n",
       "<table border=\"1\" class=\"dataframe\">\n",
       "  <thead>\n",
       "    <tr style=\"text-align: right;\">\n",
       "      <th></th>\n",
       "      <th>year</th>\n",
       "      <th>fips</th>\n",
       "      <th>elect_type</th>\n",
       "      <th>elect_name</th>\n",
       "      <th>county_name</th>\n",
       "      <th>reg_voters</th>\n",
       "      <th>ballots_cast</th>\n",
       "      <th>s_house_d</th>\n",
       "      <th>s_house_r</th>\n",
       "      <th>s_house_o</th>\n",
       "      <th>...</th>\n",
       "      <th>senate_o</th>\n",
       "      <th>gov_d</th>\n",
       "      <th>gov_r</th>\n",
       "      <th>gov_o</th>\n",
       "      <th>sos_d</th>\n",
       "      <th>sos_r</th>\n",
       "      <th>sos_o</th>\n",
       "      <th>pres_d</th>\n",
       "      <th>pres_r</th>\n",
       "      <th>pres_o</th>\n",
       "    </tr>\n",
       "  </thead>\n",
       "  <tbody>\n",
       "  </tbody>\n",
       "</table>\n",
       "<p>0 rows × 28 columns</p>\n",
       "</div>"
      ],
      "text/plain": [
       "Empty DataFrame\n",
       "Columns: [year, fips, elect_type, elect_name, county_name, reg_voters, ballots_cast, s_house_d, s_house_r, s_house_o, s_senate_d, s_senate_r, s_senate_o, house_d, house_r, house_o, senate_d, senate_r, senate_o, gov_d, gov_r, gov_o, sos_d, sos_r, sos_o, pres_d, pres_r, pres_o]\n",
       "Index: []\n",
       "\n",
       "[0 rows x 28 columns]"
      ]
     },
     "execution_count": 3,
     "metadata": {},
     "output_type": "execute_result"
    }
   ],
   "source": [
    "metadata = {\n",
    " 'year': 'Year of Election',\n",
    " 'fips': 'FIPS Code',\n",
    " 'elect_type': 'Election Type',\n",
    " 'elect_name': 'Election Name',\n",
    " 'county_name': 'Name of County',\n",
    " 'reg_voters': 'Total Registered Voters, #',\n",
    " 'ballots_cast': 'Total Ballots Cast, #',\n",
    " 's_house_d': 'State House Democratic Votes, #',\n",
    " 's_house_r': 'State House GOP Votes, #',\n",
    " 's_house_o': 'State House Other Votes, #',\n",
    " 's_senate_d': 'State Senate Democratic Votes, #',\n",
    " 's_senate_r': 'State Senate GOP Votes, #',\n",
    " 's_senate_o': 'State Senate Other Votes, #',\n",
    " 'house_d': 'House Democratic Votes, #',\n",
    " 'house_r': 'House GOP Votes, #',\n",
    " 'house_o': 'House Other Votes, #',\n",
    " 'senate_d': 'Senate Democratic Votes, #',\n",
    " 'senate_r': 'Senate GOP Votes, #',\n",
    " 'senate_o': 'Senate Other Votes, #',\n",
    " 'gov_d': 'Governor Democratic Votes, #',\n",
    " 'gov_r': 'Governor GOP Votes, #',\n",
    " 'gov_o': 'Governor Other Votes, #',\n",
    " 'sos_d': 'Secretary of State Democratic Votes, #',\n",
    " 'sos_r': 'Secretary of State GOP Votes, #',\n",
    " 'sos_o': 'Secretary of State Other Votes, #',\n",
    " 'pres_d': 'President Democratic Votes, #',\n",
    " 'pres_r': 'President GOP Votes, #',\n",
    " 'pres_o': 'President Other Votes, #'\n",
    "}\n",
    "\n",
    "data = pd.DataFrame(columns=metadata.keys())\n",
    "data.head()"
   ]
  }
 ],
 "metadata": {
  "kernelspec": {
   "display_name": "Python 3",
   "language": "python",
   "name": "python3"
  },
  "language_info": {
   "codemirror_mode": {
    "name": "ipython",
    "version": 3
   },
   "file_extension": ".py",
   "mimetype": "text/x-python",
   "name": "python",
   "nbconvert_exporter": "python",
   "pygments_lexer": "ipython3",
   "version": "3.12.2"
  }
 },
 "nbformat": 4,
 "nbformat_minor": 2
}
